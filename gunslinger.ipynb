{
 "cells": [
  {
   "cell_type": "code",
   "execution_count": 1,
   "metadata": {
    "collapsed": true
   },
   "outputs": [],
   "source": [
    "from random import randint"
   ]
  },
  {
   "cell_type": "code",
   "execution_count": 2,
   "metadata": {
    "collapsed": true
   },
   "outputs": [],
   "source": [
    "def dice_roll(sides=20):\n",
    "    roll = randint(1,sides)\n",
    "    return roll"
   ]
  },
  {
   "cell_type": "code",
   "execution_count": 3,
   "metadata": {
    "collapsed": true
   },
   "outputs": [],
   "source": [
    "def pepperbox(misfire=2, ac_against=\"\", dex_mod=4, damage_mod=0, proficiency=2, to_hit_mod=2,roll_type=\"Normal\"):\n",
    "    if roll_type == \"Normal\":\n",
    "        roll = dice_roll()\n",
    "    elif roll_type == \"Advantage\":\n",
    "        roll_1 = dice_roll()\n",
    "        roll_2 = dice_roll()\n",
    "        roll = max(roll_1,roll_2)\n",
    "    elif roll_type == \"Disadvantage\":\n",
    "        roll_1 = dice_roll()\n",
    "        roll_2 = dice_roll()\n",
    "        roll = min(roll_1,roll_2)\n",
    "    if roll == 20:\n",
    "        damage = (dice_roll(sides=10) * 2) + dex_mod + damage_mod\n",
    "        return \"NATY 20 BABY!\", damage\n",
    "    if roll <= misfire:\n",
    "        return \"Gun Misfires\", roll\n",
    "    roll = roll + dex_mod + proficiency + to_hit_mod\n",
    "    if ac_against == \"\":\n",
    "        damage = dice_roll(sides=10) + dex_mod + damage_mod\n",
    "        return roll, damage\n",
    "    elif roll >= ac_against:\n",
    "        damage = dice_roll(sides=10) + dex_mod + damage_mod\n",
    "        return \"Hits\", roll, damage\n",
    "    elif (roll < ac_against) & (roll > misfire):\n",
    "        return \"Misses\", roll"
   ]
  },
  {
   "cell_type": "code",
   "execution_count": 4,
   "metadata": {
    "collapsed": false
   },
   "outputs": [
    {
     "data": {
      "text/plain": [
       "('Hits', 17, 16)"
      ]
     },
     "execution_count": 4,
     "metadata": {},
     "output_type": "execute_result"
    }
   ],
   "source": [
    "pepperbox(ac_against=15,damage_mod=10,to_hit_mod=-3,roll_type=\"Advantage\")"
   ]
  }
 ],
 "metadata": {
  "kernelspec": {
   "display_name": "Python 3",
   "language": "python",
   "name": "python3"
  },
  "language_info": {
   "codemirror_mode": {
    "name": "ipython",
    "version": 3
   },
   "file_extension": ".py",
   "mimetype": "text/x-python",
   "name": "python",
   "nbconvert_exporter": "python",
   "pygments_lexer": "ipython3",
   "version": "3.5.0"
  }
 },
 "nbformat": 4,
 "nbformat_minor": 0
}
