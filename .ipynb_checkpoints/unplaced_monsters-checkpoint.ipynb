{
 "cells": [
  {
   "cell_type": "code",
   "execution_count": 1,
   "metadata": {
    "collapsed": true
   },
   "outputs": [],
   "source": [
    "import pandas as pd"
   ]
  },
  {
   "cell_type": "code",
   "execution_count": 2,
   "metadata": {
    "collapsed": false
   },
   "outputs": [
    {
     "name": "stderr",
     "output_type": "stream",
     "text": [
      "/Users/MatthewBarnette/.direnv/python-3.5.0/lib/python3.5/site-packages/ipykernel/__main__.py:2: FutureWarning: sort(columns=....) is deprecated, use sort_values(by=.....)\n",
      "  from ipykernel import kernelapp as app\n"
     ]
    }
   ],
   "source": [
    "monster_manuel = pd.read_csv('CSV_files/Random_encounter_monsters.csv')\n",
    "monster_manuel = monster_manuel.sort('Monster')"
   ]
  },
  {
   "cell_type": "code",
   "execution_count": 3,
   "metadata": {
    "collapsed": false
   },
   "outputs": [],
   "source": [
    "unplaced_monsters = monster_manuel[monster_manuel.Artic == 0]\n",
    "unplaced_monsters = unplaced_monsters[unplaced_monsters.Coastal == 0]\n",
    "unplaced_monsters = unplaced_monsters[unplaced_monsters.Desert == 0]\n",
    "unplaced_monsters = unplaced_monsters[unplaced_monsters.Forest == 0]\n",
    "unplaced_monsters = unplaced_monsters[unplaced_monsters.Grassland == 0]\n",
    "unplaced_monsters = unplaced_monsters[unplaced_monsters.Hill == 0]\n",
    "unplaced_monsters = unplaced_monsters[unplaced_monsters.Mountain == 0]\n",
    "unplaced_monsters = unplaced_monsters[unplaced_monsters.Swamp == 0]\n",
    "unplaced_monsters = unplaced_monsters[unplaced_monsters.Underdark == 0]\n",
    "unplaced_monsters = unplaced_monsters[unplaced_monsters.Underwater == 0]\n",
    "unplaced_monsters = unplaced_monsters[unplaced_monsters.Urban == 0]"
   ]
  },
  {
   "cell_type": "code",
   "execution_count": 4,
   "metadata": {
    "collapsed": false
   },
   "outputs": [
    {
     "name": "stdout",
     "output_type": "stream",
     "text": [
      "['Angel, planetar', 'Animated object, flying sword', 'Ankheg', 'Awakened shrub', 'Azer', 'Baboon', 'Banshee', 'Bat, giant', 'Beholder, death tyrant', 'Beholder, spectator', 'Blight, twig', 'Boar, giant', 'Cambion', 'Cockatrice', 'Crocodile, giant', 'Demon, chasme', 'Devil, horned', 'Dragon, bronze, ancient', 'Dragon, copper, ancient', 'Dragon, gold, young', 'Dragon, green, adult', 'Dragon, red, wyrmling', 'Dragon, silver, adult', 'Dragon, white, adult', 'Dragon, white, ancient', 'Dragon, white, young', 'Drider', 'Elf, drow, mage', 'Fungi, gas spore', 'Galeb duhr', 'Genie, marid', 'Ghoul, ghast', 'Giant, cloud', 'Giant, fire', 'Giant, frost', 'Giant, hill', 'Gith, githzerai zerth', 'Golem, flesh', 'Golem, iron', 'Homunculus', 'Horse, riding', 'Hyena', 'Hyena, giant', 'Jackalwere', 'Kenku', 'Killer whale', 'Lich', 'Lizard', 'Lizard, giant', 'Lizardfolk, shaman', 'Mastiff', 'Mephit, ice', 'Merrow', 'Mind flayer', 'Modron, duodrone', 'Modron, quadrone', 'Mule', 'Mummy lord', 'Myconid, adult', 'Myconid, spore servant (template)', 'NPC acolyte', 'NPC archmage', 'NPC bandit', 'NPC guard', 'NPC scout', 'NPC veteran', 'Nightmare', 'Ogre, half- (ogrillon)', 'Ooze, gelatinous cube', 'Ooze, ochre jelly', 'Orc', 'Orc war chief', 'Owl', 'Peryton', 'Quipper', 'Rat', 'Remorhaz, young', 'Revenant', 'Roc', 'Rust monster', 'Sahuagin, priestess', 'Salamander', 'Sea horse', 'Shambling mound', 'Shark, giant', 'Shark, reef', 'Skeleton, minotaur', 'Slaad, blue', 'Slaad, death', 'Slaad, green', 'Snake, poisonous', 'Specter', 'Sphinx, androsphinx', 'Spider', 'Spider, phase', 'Swarm of bats', 'Swarm of quippers', 'Troglodyte', 'Vampire', 'Vampire spawn', 'Water weird', 'Weasel', 'Weasel, giant', 'Winter wolf', 'Wraith', 'Yuan-ti, malison', 'Yugoloth, mezzoloth', 'Yugoloth, ultraloth', 'Zombie', 'Zombie, beholder']\n"
     ]
    }
   ],
   "source": [
    "print(list(unplaced_monsters.Monster))"
   ]
  }
 ],
 "metadata": {
  "kernelspec": {
   "display_name": "Python 3",
   "language": "python",
   "name": "python3"
  },
  "language_info": {
   "codemirror_mode": {
    "name": "ipython",
    "version": 3
   },
   "file_extension": ".py",
   "mimetype": "text/x-python",
   "name": "python",
   "nbconvert_exporter": "python",
   "pygments_lexer": "ipython3",
   "version": "3.5.0"
  }
 },
 "nbformat": 4,
 "nbformat_minor": 0
}
