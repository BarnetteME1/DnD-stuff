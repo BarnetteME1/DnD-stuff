{
 "cells": [
  {
   "cell_type": "code",
   "execution_count": 1,
   "metadata": {
    "collapsed": true
   },
   "outputs": [],
   "source": [
    "import pandas as pd\n",
    "import numpy as np"
   ]
  },
  {
   "cell_type": "code",
   "execution_count": 66,
   "metadata": {
    "collapsed": false
   },
   "outputs": [
    {
     "name": "stderr",
     "output_type": "stream",
     "text": [
      "/Users/MatthewBarnette/my_projects/.direnv/python-3.5.0/lib/python3.5/site-packages/ipykernel/__main__.py:2: FutureWarning: sort(columns=....) is deprecated, use sort_values(by=.....)\n",
      "  from ipykernel import kernelapp as app\n"
     ]
    }
   ],
   "source": [
    "monster_manuel = pd.read_csv('CSV_files/modified_monster_manuel.csv')\n",
    "monster_manuel = monster_manuel.sort('Name')\n",
    "xp_threshold = pd.read_csv('CSV_files/xp_threshold.csv', index_col='Level')"
   ]
  },
  {
   "cell_type": "code",
   "execution_count": 52,
   "metadata": {
    "collapsed": false
   },
   "outputs": [],
   "source": [
    "monster_list = list(monster_manuel.Name)"
   ]
  },
  {
   "cell_type": "code",
   "execution_count": 75,
   "metadata": {
    "collapsed": false
   },
   "outputs": [
    {
     "name": "stderr",
     "output_type": "stream",
     "text": [
      "/Users/MatthewBarnette/my_projects/.direnv/python-3.5.0/lib/python3.5/site-packages/ipykernel/__main__.py:1: FutureWarning: sort(columns=....) is deprecated, use sort_values(by=.....)\n",
      "  if __name__ == '__main__':\n"
     ]
    }
   ],
   "source": [
    "monster_manuel = monster_manuel.sort('Name')"
   ]
  },
  {
   "cell_type": "code",
   "execution_count": 61,
   "metadata": {
    "collapsed": false
   },
   "outputs": [],
   "source": [
    "monster_manuel = monster_manuel.drop(labels=['Alignemt'], axis=1)"
   ]
  },
  {
   "cell_type": "code",
   "execution_count": 74,
   "metadata": {
    "collapsed": false
   },
   "outputs": [],
   "source": [
    "monster_manuel = monster_manuel.append({'Name': 'Aarakocra', 'ChallengeRating': 1/4, 'ChallengeXP': 50, 'ACType': 'None', 'AC': 12, 'STR': 10,\n",
    "                       'STRMod': 0, 'DEX': 14, 'DEXMod': 2, 'CON': 10, 'CONMod': 0, 'INT': 11, 'INTMod': 0, \n",
    "                       'WIS': 12, 'WISMod': 1, 'CHA': 11 ,'CHAMod': 0, 'HPDice': '3d8', 'HP': 13, 'Artic': 0, \n",
    "                       'Coastal': 0, 'Desert': 0, 'Forest': 0, 'Grassland': 0, 'Hill': 0, \n",
    "                       'Mountain': 1, 'Swamp': 0, 'Underdark': 0, 'Underwater': 0, \n",
    "                       'Urban': 0, 'Alignmet': 'Neutral Good'}, ignore_index=True)"
   ]
  },
  {
   "cell_type": "code",
   "execution_count": null,
   "metadata": {
    "collapsed": true
   },
   "outputs": [],
   "source": []
  },
  {
   "cell_type": "code",
   "execution_count": 76,
   "metadata": {
    "collapsed": true
   },
   "outputs": [],
   "source": [
    "monster_manuel.to_csv('CSV_files/modified_monster_manuel.csv', index=False)"
   ]
  }
 ],
 "metadata": {
  "kernelspec": {
   "display_name": "Python 3",
   "language": "python",
   "name": "python3"
  },
  "language_info": {
   "codemirror_mode": {
    "name": "ipython",
    "version": 3
   },
   "file_extension": ".py",
   "mimetype": "text/x-python",
   "name": "python",
   "nbconvert_exporter": "python",
   "pygments_lexer": "ipython3",
   "version": "3.5.0"
  }
 },
 "nbformat": 4,
 "nbformat_minor": 0
}
