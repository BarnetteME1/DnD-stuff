{
 "cells": [
  {
   "cell_type": "code",
   "execution_count": 1,
   "metadata": {
    "collapsed": true
   },
   "outputs": [],
   "source": [
    "import pandas as pd\n",
    "import numpy as np"
   ]
  },
  {
   "cell_type": "markdown",
   "metadata": {
    "collapsed": true
   },
   "source": [
    "# Importing appropriate files"
   ]
  },
  {
   "cell_type": "code",
   "execution_count": 2,
   "metadata": {
    "collapsed": false
   },
   "outputs": [
    {
     "name": "stderr",
     "output_type": "stream",
     "text": [
      "/Users/MatthewBarnette/.direnv/python-3.5.0/lib/python3.5/site-packages/ipykernel/__main__.py:2: FutureWarning: sort(columns=....) is deprecated, use sort_values(by=.....)\n",
      "  from ipykernel import kernelapp as app\n"
     ]
    }
   ],
   "source": [
    "monster_manuel_aris = pd.read_csv('CSV_files/Aris-5e-Monster-Sorter1.csv')\n",
    "monster_manuel = pd.read_csv('CSV_files/modified_monster_manuel.csv')\n",
    "monster_manuel = monster_manuel.sort('Name')\n",
    "xp_threshold = pd.read_csv('CSV_files/xp_threshold.csv', index_col='Level')"
   ]
  },
  {
   "cell_type": "code",
   "execution_count": 4,
   "metadata": {
    "collapsed": false
   },
   "outputs": [
    {
     "name": "stderr",
     "output_type": "stream",
     "text": [
      "/Users/MatthewBarnette/.direnv/python-3.5.0/lib/python3.5/site-packages/ipykernel/__main__.py:1: FutureWarning: sort(columns=....) is deprecated, use sort_values(by=.....)\n",
      "  if __name__ == '__main__':\n"
     ]
    }
   ],
   "source": [
    "monster_manuel = monster_manuel.sort('Name')"
   ]
  },
  {
   "cell_type": "code",
   "execution_count": 7,
   "metadata": {
    "collapsed": false
   },
   "outputs": [],
   "source": [
    "monster_manuel = monster_manuel.append({'Name': 'Aarakocra', 'ChallengeRating': 1/4, 'ChallengeXP': 50, 'ACType': 'None', 'AC': 12, 'STR': 10,\n",
    "                       'STRMod': 0, 'DEX': 14, 'DEXMod': 2, 'CON': 10, 'CONMod': 0, 'INT': 11, 'INTMod': 0, \n",
    "                       'WIS': 12, 'WISMod': 1, 'CHA': 11 ,'CHAMod': 0, 'HPDice': '3d8', 'HP': 13, 'Artic': 0, \n",
    "                       'Coastal': 0, 'Desert': 0, 'Forest': 0, 'Grassland': 0, 'Hill': 0, \n",
    "                       'Mountain': 1, 'Swamp': 0, 'Underdark': 0, 'Underwater': 0, \n",
    "                       'Urban': 0, 'Alignment': 'Neutral Good'}, ignore_index=True)"
   ]
  },
  {
   "cell_type": "markdown",
   "metadata": {},
   "source": [
    "# Encounter Multipliers"
   ]
  },
  {
   "cell_type": "code",
   "execution_count": null,
   "metadata": {
    "collapsed": true
   },
   "outputs": [],
   "source": [
    "if party_size <= 5 and party_size >= 3:\n",
    "    one_monster = 1\n",
    "    two_monsters = 1.5\n",
    "    three_to_six_monsters = 2\n",
    "    seven_to_ten_monsters = 2.5\n",
    "    eleven_to_fourteen_monsters = 3\n",
    "    fifteen_or_more_monsters = 4\n",
    "\n",
    "if party_size < 3:\n",
    "    one_monster = 1.5\n",
    "    two_monsters = 2\n",
    "    three_to_six_monsters = 2.5\n",
    "    seven_to_ten_monsters = 3\n",
    "    eleven_to_fourteen_monsters = 4\n",
    "    fifteen_or_more_monsters = 5\n",
    "    \n",
    "if party_size > 5:\n",
    "    one_monster = .5\n",
    "    two_monsters = 1\n",
    "    three_to_six_monsters = 1.5\n",
    "    seven_to_ten_monsters = 2\n",
    "    eleven_to_fourteen_monsters = 2.5\n",
    "    fifteen_or_more_monsters = 3"
   ]
  }
 ],
 "metadata": {
  "kernelspec": {
   "display_name": "Python 3",
   "language": "python",
   "name": "python3"
  },
  "language_info": {
   "codemirror_mode": {
    "name": "ipython",
    "version": 3
   },
   "file_extension": ".py",
   "mimetype": "text/x-python",
   "name": "python",
   "nbconvert_exporter": "python",
   "pygments_lexer": "ipython3",
   "version": "3.5.0"
  }
 },
 "nbformat": 4,
 "nbformat_minor": 0
}
