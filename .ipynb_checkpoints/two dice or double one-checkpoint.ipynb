{
 "cells": [
  {
   "cell_type": "code",
   "execution_count": 1,
   "metadata": {
    "collapsed": true
   },
   "outputs": [],
   "source": [
    "from random import randint\n",
    "import matplotlib.pyplot as plt\n",
    "%matplotlib inline"
   ]
  },
  {
   "cell_type": "code",
   "execution_count": 2,
   "metadata": {
    "collapsed": true
   },
   "outputs": [],
   "source": [
    "def dice_roll(sides=20):\n",
    "    roll = randint(1,sides)\n",
    "    return roll"
   ]
  },
  {
   "cell_type": "code",
   "execution_count": 3,
   "metadata": {
    "collapsed": true
   },
   "outputs": [],
   "source": [
    "def two_dice():\n",
    "    roll_1 = dice_roll(sides=10)\n",
    "    roll_2 = dice_roll(sides=10)\n",
    "    result = roll_1 + roll_2\n",
    "    return result"
   ]
  },
  {
   "cell_type": "code",
   "execution_count": 4,
   "metadata": {
    "collapsed": true
   },
   "outputs": [],
   "source": [
    "def double_roll():\n",
    "    return (dice_roll(sides=10)) * 2"
   ]
  },
  {
   "cell_type": "code",
   "execution_count": 5,
   "metadata": {
    "collapsed": false
   },
   "outputs": [
    {
     "data": {
      "text/plain": [
       "15"
      ]
     },
     "execution_count": 5,
     "metadata": {},
     "output_type": "execute_result"
    }
   ],
   "source": [
    "two_dice()"
   ]
  },
  {
   "cell_type": "code",
   "execution_count": 6,
   "metadata": {
    "collapsed": false
   },
   "outputs": [
    {
     "data": {
      "text/plain": [
       "2"
      ]
     },
     "execution_count": 6,
     "metadata": {},
     "output_type": "execute_result"
    }
   ],
   "source": [
    "double_roll()"
   ]
  },
  {
   "cell_type": "code",
   "execution_count": null,
   "metadata": {
    "collapsed": true
   },
   "outputs": [],
   "source": [
    "def multi_rolls(amount=1000):\n",
    "    two_dice_list = []\n",
    "    double_roll_list = []\n",
    "    for _ in range(0,amount):\n",
    "        type_1 = two_dice()\n",
    "        two_dice_list.append(type_1)\n",
    "        type_2 = double_roll()\n",
    "        double_roll_list.append(type_2)\n",
    "    return two_dice_list, double_roll_list"
   ]
  },
  {
   "cell_type": "code",
   "execution_count": null,
   "metadata": {
    "collapsed": false,
    "scrolled": false
   },
   "outputs": [
    {
     "name": "stdout",
     "output_type": "stream",
     "text": [
      "total rolls:  5 \n",
      " total damage two dice:  62 \n",
      " total damage total double:  58 \n",
      "total double - total two:  -4 \n",
      "\n",
      "\n",
      "\n",
      "total rolls:  25 \n",
      " total damage two dice:  267 \n",
      " total damage total double:  276 \n",
      "total double - total two:  9 \n",
      "\n",
      "\n",
      "\n",
      "total rolls:  50 \n",
      " total damage two dice:  586 \n",
      " total damage total double:  586 \n",
      "total double - total two:  0 \n",
      "\n",
      "\n",
      "\n",
      "total rolls:  100 \n",
      " total damage two dice:  1099 \n",
      " total damage total double:  1080 \n",
      "total double - total two:  -19 \n",
      "\n",
      "\n",
      "\n",
      "total rolls:  1000 \n",
      " total damage two dice:  10800 \n",
      " total damage total double:  11286 \n",
      "total double - total two:  486 \n",
      "\n",
      "\n",
      "\n",
      "total rolls:  10000 \n",
      " total damage two dice:  109395 \n",
      " total damage total double:  109552 \n",
      "total double - total two:  157 \n",
      "\n",
      "\n",
      "\n",
      "total rolls:  100000 \n",
      " total damage two dice:  1100096 \n",
      " total damage total double:  1098510 \n",
      "total double - total two:  -1586 \n",
      "\n",
      "\n",
      "\n",
      "total rolls: "
     ]
    }
   ],
   "source": [
    "for i in [5,25,50,100,1000,10000,100000,1000000,10000000]:\n",
    "    two_dice_list, double_roll_list = multi_rolls(amount=i)\n",
    "    total_two = sum(j for j in two_dice_list)\n",
    "    total_double = sum(j for j in double_roll_list)\n",
    "    print(\"total rolls: \", i, \"\\n total damage two dice: \", total_two, \"\\n total damage total double: \", total_double,\n",
    "          \"\\ntotal double - total two: \", total_double - total_two,\"\\n\\n\\n\")"
   ]
  },
  {
   "cell_type": "code",
   "execution_count": null,
   "metadata": {
    "collapsed": true
   },
   "outputs": [],
   "source": [
    "def list_to_dict(list_to_convert):\n",
    "    dictionary = {}\n",
    "    for i in list_to_convert:\n",
    "        dictionary[i] = dictionary.get(i, 0) + 1\n",
    "    return dictionary"
   ]
  },
  {
   "cell_type": "code",
   "execution_count": null,
   "metadata": {
    "collapsed": false
   },
   "outputs": [],
   "source": [
    "two_dice_dict = list_to_dict(two_dice_list)"
   ]
  },
  {
   "cell_type": "code",
   "execution_count": null,
   "metadata": {
    "collapsed": false
   },
   "outputs": [],
   "source": [
    "two_dice_dict"
   ]
  },
  {
   "cell_type": "code",
   "execution_count": null,
   "metadata": {
    "collapsed": false
   },
   "outputs": [],
   "source": [
    "double_roll_dict = list_to_dict(double_roll_list)"
   ]
  },
  {
   "cell_type": "code",
   "execution_count": null,
   "metadata": {
    "collapsed": false
   },
   "outputs": [],
   "source": [
    "double_roll_dict"
   ]
  },
  {
   "cell_type": "code",
   "execution_count": null,
   "metadata": {
    "collapsed": false
   },
   "outputs": [],
   "source": [
    "two_dice_dict_list = sorted(two_dice_dict.items())\n",
    "x, y = zip(*two_dice_dict_list)"
   ]
  },
  {
   "cell_type": "code",
   "execution_count": null,
   "metadata": {
    "collapsed": true
   },
   "outputs": [],
   "source": [
    "double_roll_dict_list = sorted(double_roll_dict.items())\n",
    "n, m = zip(*double_roll_dict_list)"
   ]
  },
  {
   "cell_type": "code",
   "execution_count": null,
   "metadata": {
    "collapsed": false
   },
   "outputs": [],
   "source": [
    "plt.figure(figsize=(20,10))\n",
    "plt.bar(x,y,color=\"blue\",label = \"two dice\")\n",
    "#plt.bar(n,m,color=\"red\", label = \"double one dice\")\n",
    "plt.gca().legend(loc='upper left')\n",
    "plt.show()"
   ]
  },
  {
   "cell_type": "code",
   "execution_count": null,
   "metadata": {
    "collapsed": false
   },
   "outputs": [],
   "source": [
    "plt.figure(figsize=(20,10))\n",
    "#plt.bar(x,y,color=\"blue\",label = \"two dice\")\n",
    "plt.bar(n,m,color=\"red\", label = \"double one dice\")\n",
    "plt.gca().legend(loc='upper left')\n",
    "plt.show()"
   ]
  },
  {
   "cell_type": "code",
   "execution_count": null,
   "metadata": {
    "collapsed": false
   },
   "outputs": [],
   "source": [
    "plt.figure(figsize=(20,10))\n",
    "plt.bar(x,y,color=\"blue\",label = \"two dice\")\n",
    "plt.bar(n,m,color=\"red\", label = \"double one dice\")\n",
    "plt.gca().legend(loc='upper left')\n",
    "plt.show()"
   ]
  }
 ],
 "metadata": {
  "kernelspec": {
   "display_name": "Python 3",
   "language": "python",
   "name": "python3"
  },
  "language_info": {
   "codemirror_mode": {
    "name": "ipython",
    "version": 3
   },
   "file_extension": ".py",
   "mimetype": "text/x-python",
   "name": "python",
   "nbconvert_exporter": "python",
   "pygments_lexer": "ipython3",
   "version": "3.5.0"
  }
 },
 "nbformat": 4,
 "nbformat_minor": 0
}
