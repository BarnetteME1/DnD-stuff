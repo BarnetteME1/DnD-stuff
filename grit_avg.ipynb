{
 "cells": [
  {
   "cell_type": "code",
   "execution_count": 1,
   "metadata": {
    "collapsed": true
   },
   "outputs": [],
   "source": [
    "from random import randint\n",
    "from numpy import mean"
   ]
  },
  {
   "cell_type": "code",
   "execution_count": 2,
   "metadata": {
    "collapsed": false
   },
   "outputs": [],
   "source": [
    "def grit_point_avg(grit_total=3, roll_type=\"Normal\", lvl=3, cycles=100):\n",
    "    if lvl< 18:\n",
    "        crit_range = [20]\n",
    "    else:\n",
    "        crit_range = [19, 20]\n",
    "    roll_list = []\n",
    "    extra_grit_rolls = []\n",
    "    for _ in range(0,cycles):\n",
    "        total_rolls = 0\n",
    "        grit = grit_total\n",
    "        while grit > 0:\n",
    "            result = 0\n",
    "            roll_1 = randint(1,20)\n",
    "            roll_2 = randint(1,20)\n",
    "            if roll_type == \"Normal\":\n",
    "                result = roll_1\n",
    "            elif roll_type == \"Advantage\":\n",
    "                result = max(roll_1, roll_2)\n",
    "            elif roll_type == \"Disadvantage\":\n",
    "                result = min(roll_1, roll_2)\n",
    "            if result not in crit_range:\n",
    "                grit -= 1\n",
    "            total_rolls += 1\n",
    "        if total_rolls > grit_total:\n",
    "            extra_grit_rolls.append(total_rolls)\n",
    "        roll_list.append(total_rolls)\n",
    "    return mean(roll_list), ((float(len(extra_grit_rolls)) / float(len(roll_list))) * 100)"
   ]
  },
  {
   "cell_type": "code",
   "execution_count": 9,
   "metadata": {
    "collapsed": false
   },
   "outputs": [
    {
     "name": "stdout",
     "output_type": "stream",
     "text": [
      "3.157746 14.2408\n",
      "3.323836 26.4479\n",
      "3.007537 0.7503\n"
     ]
    }
   ],
   "source": [
    "normal_rolls, normal_percentage_crit = grit_point_avg(cycles=1000000)\n",
    "advantage_rolls, advantage_percentage_crit = grit_point_avg(cycles=1000000,roll_type=\"Advantage\")\n",
    "disadvantage_rolls, disadvantage_percentage_crit = grit_point_avg(cycles=1000000,roll_type=\"Disadvantage\")\n",
    "print(normal_rolls, normal_percentage_crit)\n",
    "print(advantage_rolls, advantage_percentage_crit)\n",
    "print(disadvantage_rolls, disadvantage_percentage_crit)"
   ]
  },
  {
   "cell_type": "code",
   "execution_count": 10,
   "metadata": {
    "collapsed": false
   },
   "outputs": [
    {
     "name": "stdout",
     "output_type": "stream",
     "text": [
      "12.2071\n",
      "13.4905\n",
      "25.6976\n"
     ]
    }
   ],
   "source": [
    "print(advantage_percentage_crit - normal_percentage_crit)\n",
    "print(normal_percentage_crit - disadvantage_percentage_crit)\n",
    "print(advantage_percentage_crit - disadvantage_percentage_crit)"
   ]
  },
  {
   "cell_type": "code",
   "execution_count": 4,
   "metadata": {
    "collapsed": false
   },
   "outputs": [
    {
     "name": "stdout",
     "output_type": "stream",
     "text": [
      "(3.3334619999999999, 27.094800000000003)\n",
      "(3.7028219999999998, 46.8394)\n",
      "(3.0304709999999999, 2.9877000000000002)\n"
     ]
    }
   ],
   "source": [
    "normal_rolls_lvl18, normal_percentage_crit_lvl18 = grit_point_avg(cycles=1000000,lvl=18)\n",
    "advantage_rolls_lvl18, advantage_percentage_crit_lvl18 = grit_point_avg(cycles=1000000,roll_type=\"Advantage\",lvl=18)\n",
    "disadvantage_rolls_lvl18, disadvantage_percentage_crit_lvl18 = grit_point_avg(cycles=1000000,roll_type=\"Disadvantage\",lvl=18)\n",
    "print(normal_rolls_lvl18, normal_percentage_crit_lvl18)\n",
    "print(advantage_rolls_lvl18, advantage_percentage_crit_lvl18)\n",
    "print(disadvantage_rolls_lvl18, disadvantage_percentage_crit_lvl18)"
   ]
  },
  {
   "cell_type": "code",
   "execution_count": null,
   "metadata": {
    "collapsed": true
   },
   "outputs": [],
   "source": [
    "print(advantage_percentage_crit_lvl18 - normal_percentage_crit_lvl18)\n",
    "print(normal_percentage_crit_lvl18 - disadvantage_percentage_crit_lvl18)\n",
    "print(advantage_percentage_crit_lvl18 - disadvantage_percentage_crit_lvl18)"
   ]
  },
  {
   "cell_type": "code",
   "execution_count": 5,
   "metadata": {
    "collapsed": false
   },
   "outputs": [
    {
     "name": "stdout",
     "output_type": "stream",
     "text": [
      "(4.2106820000000003, 18.5698)\n",
      "(4.4327829999999997, 33.692)\n",
      "(4.0100790000000002, 1.0012)\n"
     ]
    }
   ],
   "source": [
    "normal_rolls_4grit, normal_percentage_crit_4grit = grit_point_avg(cycles=1000000,grit_total=4)\n",
    "advantage_rolls_4grit, advantage_percentage_crit_4grit = grit_point_avg(cycles=1000000,roll_type=\"Advantage\",grit_total=4)\n",
    "disadvantage_rolls_4grit, disadvantage_percentage_crit_4grit = grit_point_avg(cycles=1000000,roll_type=\"Disadvantage\",grit_total=4)\n",
    "print(normal_rolls_4grit, normal_percentage_crit_4grit)\n",
    "print(advantage_rolls_4grit, advantage_percentage_crit_4grit)\n",
    "print(disadvantage_rolls_4grit, disadvantage_percentage_crit_4grit)"
   ]
  },
  {
   "cell_type": "code",
   "execution_count": null,
   "metadata": {
    "collapsed": true
   },
   "outputs": [],
   "source": [
    "print(advantage_percentage_crit_4grit - normal_percentage_crit_4grit)\n",
    "print(normal_percentage_crit_4grit - disadvantage_percentage_crit_4grit)\n",
    "print(advantage_percentage_crit_4grit - disadvantage_percentage_crit_4grit)"
   ]
  },
  {
   "cell_type": "code",
   "execution_count": 6,
   "metadata": {
    "collapsed": false
   },
   "outputs": [
    {
     "name": "stdout",
     "output_type": "stream",
     "text": [
      "(4.4444140000000001, 34.3856)\n",
      "(4.9405380000000001, 57.00110000000001)\n",
      "(4.0402079999999998, 3.9175)\n"
     ]
    }
   ],
   "source": [
    "normal_rolls_4grit_lvl18, normal_percentage_crit_4grit_lvl18 = grit_point_avg(cycles=1000000,lvl=18,grit_total=4)\n",
    "advantage_rolls_4grit_lvl18, advantage_percentage_crit_4grit_lvl18 = grit_point_avg(cycles=1000000,roll_type=\"Advantage\",lvl=18,grit_total=4)\n",
    "disadvantage_rolls_4grit_lvl18, disadvantage_percentage_crit_4grit_lvl18 = grit_point_avg(cycles=1000000,roll_type=\"Disadvantage\",lvl=18,grit_total=4)\n",
    "print(normal_rolls_4grit_lvl18, normal_percentage_crit_4grit_lvl18)\n",
    "print(advantage_rolls_4grit_lvl18, advantage_percentage_crit_4grit_lvl18)\n",
    "print(disadvantage_rolls_4grit_lvl18, disadvantage_percentage_crit_4grit_lvl18)"
   ]
  },
  {
   "cell_type": "code",
   "execution_count": null,
   "metadata": {
    "collapsed": true
   },
   "outputs": [],
   "source": [
    "print(advantage_percentage_crit_4grit_lvl18 - normal_percentage_crit_4grit_lvl18)\n",
    "print(normal_percentage_crit_4grit_lvl18 - disadvantage_percentage_crit_4grit_lvl18)\n",
    "print(advantage_percentage_crit_4grit_lvl18 - disadvantage_percentage_crit_4grit_lvl18)"
   ]
  },
  {
   "cell_type": "code",
   "execution_count": 7,
   "metadata": {
    "collapsed": false
   },
   "outputs": [
    {
     "name": "stdout",
     "output_type": "stream",
     "text": [
      "(4.4457000000000004, 34.4859)\n",
      "(5.5412020000000002, 40.200599999999994)\n",
      "(5.0126489999999997, 1.2545000000000002)\n"
     ]
    }
   ],
   "source": [
    "normal_rolls_5grit, normal_percentage_crit_5grit = grit_point_avg(cycles=1000000,grit_total=5)\n",
    "advantage_rolls_5grit, advantage_percentage_crit_5grit = grit_point_avg(cycles=1000000,roll_type=\"Advantage\",grit_total=5)\n",
    "disadvantage_rolls_5grit, disadvantage_percentage_crit_5grit = grit_point_avg(cycles=1000000,roll_type=\"Disadvantage\",grit_total=5)\n",
    "print(normal_rolls_5grit, normal_percentage_crit_5grit)\n",
    "print(advantage_rolls_5grit, advantage_percentage_crit_5grit)\n",
    "print(disadvantage_rolls_5grit, disadvantage_percentage_crit_5grit)"
   ]
  },
  {
   "cell_type": "code",
   "execution_count": null,
   "metadata": {
    "collapsed": true
   },
   "outputs": [],
   "source": [
    "print(advantage_percentage_crit_5grit - normal_percentage_crit_5grit)\n",
    "print(normal_percentage_crit_5grit - disadvantage_percentage_crit_5grit)\n",
    "print(advantage_percentage_crit_5grit - disadvantage_percentage_crit_5grit)"
   ]
  },
  {
   "cell_type": "code",
   "execution_count": 8,
   "metadata": {
    "collapsed": false
   },
   "outputs": [
    {
     "name": "stdout",
     "output_type": "stream",
     "text": [
      "(4.4451890000000001, 34.451100000000004)\n",
      "(4.9382979999999996, 56.9829)\n",
      "(4.0408749999999998, 3.9871999999999996)\n"
     ]
    }
   ],
   "source": [
    "normal_rolls_5grit_lvl18, normal_percentage_crit_5grit_lvl18 = grit_point_avg(cycles=1000000,lvl=18,grit_total=5)\n",
    "advantage_rolls_5grit_lvl18, advantage_percentage_crit_5grit_lvl18 = grit_point_avg(cycles=1000000,roll_type=\"Advantage\",lvl=18,grit_total=5)\n",
    "disadvantage_rolls_5grit_lvl18, disadvantage_percentage_crit_5grit_lvl18 = grit_point_avg(cycles=1000000,roll_type=\"Disadvantage\",lvl=18,grit_total=5)\n",
    "print(normal_rolls_5grit_lvl18, normal_percentage_crit_5grit_lvl18)\n",
    "print(advantage_rolls_5grit_lvl18, advantage_percentage_crit_5grit_lvl18)\n",
    "print(disadvantage_rolls_5grit_lvl18, disadvantage_percentage_crit_5grit_lvl18)"
   ]
  },
  {
   "cell_type": "code",
   "execution_count": null,
   "metadata": {
    "collapsed": true
   },
   "outputs": [],
   "source": [
    "print(advantage_percentage_crit_5grit_lvl18 - normal_percentage_crit_5grit_lvl18)\n",
    "print(normal_percentage_crit_5grit_lvl18 - disadvantage_percentage_crit_5grit_lvl18)\n",
    "print(advantage_percentage_crit_5grit_lvl18 - disadvantage_percentage_crit_5grit_lvl18)"
   ]
  }
 ],
 "metadata": {
  "kernelspec": {
   "display_name": "Python 3",
   "language": "python",
   "name": "python3"
  },
  "language_info": {
   "codemirror_mode": {
    "name": "ipython",
    "version": 3
   },
   "file_extension": ".py",
   "mimetype": "text/x-python",
   "name": "python",
   "nbconvert_exporter": "python",
   "pygments_lexer": "ipython3",
   "version": "3.5.0"
  }
 },
 "nbformat": 4,
 "nbformat_minor": 0
}
