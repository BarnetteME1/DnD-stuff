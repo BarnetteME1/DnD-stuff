{
 "cells": [
  {
   "cell_type": "code",
   "execution_count": 107,
   "metadata": {
    "collapsed": true
   },
   "outputs": [],
   "source": [
    "import pandas as pd\n",
    "pd.set_option('display.max_rows', 500)"
   ]
  },
  {
   "cell_type": "markdown",
   "metadata": {
    "collapsed": true
   },
   "source": [
    "# Importing appropriate files"
   ]
  },
  {
   "cell_type": "code",
   "execution_count": 108,
   "metadata": {
    "collapsed": false
   },
   "outputs": [],
   "source": [
    "monster_manuel = pd.read_csv('CSV_files/random_encounter_monsters.csv')\n",
    "monster_manuel = monster_manuel.sort_values('monster')\n",
    "#monster_manuel = monster_manuel[monster_manuel.legendary == 'N']\n",
    "#monster_manuel = monster_manuel[monster_manuel.xp > 0]\n",
    "xp_threshold = pd.read_csv('CSV_files/xp_threshold.csv', index_col='level')"
   ]
  },
  {
   "cell_type": "code",
   "execution_count": 109,
   "metadata": {
    "collapsed": false,
    "scrolled": false
   },
   "outputs": [],
   "source": [
    "artic_monsters = monster_manuel[monster_manuel.artic == 1].sort_values(by='cr')\n",
    "coastal_monsters = monster_manuel[monster_manuel.coastal == 1].sort_values(by='cr')\n",
    "desert_monsters = monster_manuel[monster_manuel.desert == 1].sort_values(by='cr')\n",
    "forest_monsters = monster_manuel[monster_manuel.forest == 1].sort_values(by='cr')\n",
    "grassland_monsters = monster_manuel[monster_manuel.grassland == 1].sort_values(by='cr')\n",
    "hill_monsters = monster_manuel[monster_manuel.hill == 1].sort_values(by='cr')\n",
    "mountain_monsters = monster_manuel[monster_manuel.mountain == 1].sort_values(by='cr')\n",
    "swamp_monsters = monster_manuel[monster_manuel.swamp == 1].sort_values(by='cr')\n",
    "underdark_monsters = monster_manuel[monster_manuel.underdark == 1].sort_values(by='cr')\n",
    "underwater_monsters = monster_manuel[monster_manuel.underwater == 1].sort_values(by='cr')\n",
    "urban_monsters = monster_manuel[monster_manuel.urban == 1].sort_values(by='cr')"
   ]
  },
  {
   "cell_type": "code",
   "execution_count": 110,
   "metadata": {
    "collapsed": false
   },
   "outputs": [
    {
     "data": {
      "text/plain": [
       "0"
      ]
     },
     "execution_count": 110,
     "metadata": {},
     "output_type": "execute_result"
    }
   ],
   "source": [
    "area_list.index('artic')"
   ]
  },
  {
   "cell_type": "code",
   "execution_count": 111,
   "metadata": {
    "collapsed": false
   },
   "outputs": [],
   "source": [
    "area_list = ['artic', 'coastal', 'desert', 'forest', 'grassland', 'hill', 'mountain', 'swamp', 'underdark', \n",
    "             'underwater', 'urban']\n",
    "for area in area_list:\n",
    "    if area_list.index(area) == 0:\n",
    "        unplaced_monsters = monster_manuel[monster_manuel[area] == 0]\n",
    "    else:\n",
    "        unplaced_monsters = unplaced_monsters[unplaced_monsters[area] == 0]"
   ]
  },
  {
   "cell_type": "markdown",
   "metadata": {},
   "source": [
    "# Random Encounter Generator"
   ]
  },
  {
   "cell_type": "code",
   "execution_count": 112,
   "metadata": {
    "collapsed": false
   },
   "outputs": [
    {
     "name": "stdout",
     "output_type": "stream",
     "text": [
      "How many members in your party? 7\n",
      "What level is your party? 3\n",
      "What environment are you traveling through? (Artic, Coastal, Desert, Forest, Grassland, Hill, \n",
      "Mountain, Swamp, Underdark, Underwater, Urban) underdark\n",
      "How hard of an encounter? (Easy, Medium, Hard, Deadly) hard\n"
     ]
    }
   ],
   "source": [
    "#these variables will be used to determine the encounter\n",
    "\n",
    "party_size = int(input(\"How many members in your party? \"))\n",
    "party_level = int(input(\"What level is your party? \"))\n",
    "environment = input(\"\"\"What environment are you traveling through? (Artic, Coastal, Desert, Forest, Grassland, Hill, \n",
    "Mountain, Swamp, Underdark, Underwater, Urban) \"\"\").lower()\n",
    "difficulty = input(\"How hard of an encounter? (Easy, Medium, Hard, Deadly) \").lower()"
   ]
  },
  {
   "cell_type": "code",
   "execution_count": 113,
   "metadata": {
    "collapsed": false
   },
   "outputs": [],
   "source": [
    "# This puts a cap on how hard the encounter can be\n",
    "def encounter_difficulty(difficulty, party_level, party_size):\n",
    "    \n",
    "    #Pick the correct difficulty column\n",
    "    threshold = xp_threshold[difficulty]\n",
    "    \n",
    "    #pick out what level the party is\n",
    "    threshold = threshold[party_level]\n",
    "\n",
    "    #multiplies the party level by the party size\n",
    "    threshold *= party_size\n",
    "\n",
    "    return threshold"
   ]
  },
  {
   "cell_type": "code",
   "execution_count": 114,
   "metadata": {
    "collapsed": false
   },
   "outputs": [],
   "source": [
    "# This takes the party size and figures out what the multiplier should be for the amount of enemies you face.\n",
    "# The more enemies the higher the multiplier\n",
    "\n",
    "def xp_multipliers(party_size):\n",
    "    # This is the general size for a party\n",
    "    one_monster = 1\n",
    "    two_monsters = 1.5\n",
    "    three_to_six_monsters = 2\n",
    "    seven_to_ten_monsters = 2.5\n",
    "    eleven_to_fourteen_monsters = 3\n",
    "    fifteen_or_more_monsters = 4\n",
    "    \n",
    "    # This is for a small party\n",
    "    if party_size < 3:\n",
    "        one_monster = 1.5\n",
    "        two_monsters = 2\n",
    "        three_to_six_monsters = 2.5\n",
    "        seven_to_ten_monsters = 3\n",
    "        eleven_to_fourteen_monsters = 4\n",
    "        fifteen_or_more_monsters = 5\n",
    "        \n",
    "    # This is for a large party\n",
    "    if party_size > 5:\n",
    "        one_monster = .5\n",
    "        two_monsters = 1\n",
    "        three_to_six_monsters = 1.5\n",
    "        seven_to_ten_monsters = 2\n",
    "        eleven_to_fourteen_monsters = 2.5\n",
    "        fifteen_or_more_monsters = 3\n",
    "    return [one_monster, two_monsters, three_to_six_monsters, seven_to_ten_monsters, eleven_to_fourteen_monsters, \n",
    "            fifteen_or_more_monsters]"
   ]
  },
  {
   "cell_type": "code",
   "execution_count": 115,
   "metadata": {
    "collapsed": false
   },
   "outputs": [],
   "source": [
    "multiplier_list = xp_multipliers(party_size)"
   ]
  },
  {
   "cell_type": "code",
   "execution_count": 116,
   "metadata": {
    "collapsed": true
   },
   "outputs": [],
   "source": [
    "#This pulls out what multiplier should be used for the time being\n",
    "\n",
    "def current_multiplier(monster_count, multiplier_list):\n",
    "    if monster_count == 1:\n",
    "        return multiplier_list[0]\n",
    "    if monster_count == 2:\n",
    "        return multiplier_list[1]\n",
    "    if monster_count >= 3 and monster_count <= 6:\n",
    "        return multiplier_list[2]\n",
    "    if monster_count >= 7 and monster_count <= 10:\n",
    "        return multiplier_list[3]\n",
    "    if monster_count >= 11 and monster_count <= 14:\n",
    "        return multiplier_list[4]\n",
    "    if monster_count >= 15:\n",
    "        return multiplier_list[5]"
   ]
  },
  {
   "cell_type": "code",
   "execution_count": 127,
   "metadata": {
    "collapsed": false
   },
   "outputs": [],
   "source": [
    "def choosing_monsters(party_threshold, terrain, party, multiplier_list):\n",
    "    \n",
    "    #If the party is large or small we'll need to account for that when deciding which monsters to face\n",
    "    if multiplier_list[0] != 1:\n",
    "        monster_choices = monster_manuel[monster_manuel.xp <= (party_threshold * multiplier_list[0])]\n",
    "\n",
    "    #Otherwise we can just use the normal xp\n",
    "    else:\n",
    "        monster_choices = monster_manuel[monster_manuel.xp <= party_threshold]\n",
    "\n",
    "    #Making sure the monster will be found in that terrain\n",
    "    monster_choices = monster_choices[monster_choices[terrain] == 1]\n",
    "    monster_names = list(monster_choices.monster)\n",
    "    \n",
    "    #going through all the monsters that would be in that terrain\n",
    "    for monster_type in monster_names:\n",
    "        \n",
    "        #Pulling up all the xp for the current monster \n",
    "        current_monster_xp = int(monster_choices[monster_choices.monster == monster_type].xp)\n",
    "        \n",
    "        #so the number of monsters can be kept track of\n",
    "        number_of_monsters = 1\n",
    "        \n",
    "        #using the definition from above to make sure that the multiplier is set to the first one\n",
    "        current_mult = current_multiplier(number_of_monsters, multiplier_list)\n",
    "        \n",
    "        # Making sure that the monster xp doesn't go above the party xp\n",
    "        while ((current_monster_xp * current_mult * number_of_monsters) <= party_threshold) is True:\n",
    "            \n",
    "            # adjusting the multiplier and the number of monsters\n",
    "            current_mult = current_multiplier(number_of_monsters, multiplier_list)\n",
    "            number_of_monsters += 1\n",
    "        \n",
    "        print(monster_type, number_of_monsters)"
   ]
  },
  {
   "cell_type": "code",
   "execution_count": 128,
   "metadata": {
    "collapsed": false,
    "scrolled": false
   },
   "outputs": [
    {
     "name": "stdout",
     "output_type": "stream",
     "text": [
      "Bat, giant 1\n",
      "Bear, polar/cave 1\n",
      "Beholder, spectator 1\n",
      "Bugbear 1\n",
      "Carrion crawler 1\n",
      "Centipede, giant 1\n",
      "Darkmantle 1\n",
      "Doppelganger 1\n",
      "Duergar 1\n",
      "Elf, drow 1\n",
      "Fire beetle, giant 1\n",
      "Flumph 1\n",
      "Fungi, gas spore 1\n",
      "Fungi, shrieker 1\n",
      "Fungi, violet 1\n",
      "Gargoyle 1\n",
      "Ghoul 1\n",
      "Ghoul, ghast 1\n",
      "Gibbering mouther 1\n",
      "Gnome, deep (Svirfneblin) 1\n",
      "Goblin 1\n",
      "Goblin, boss 1\n",
      "Grell 1\n",
      "Grick 1\n",
      "Grimlock 1\n",
      "Hell hound 1\n",
      "Hobgoblin 1\n",
      "Hobgoblin, captain 1\n",
      "Hook horror 1\n",
      "Intellect devourer 1\n",
      "Kobold 1\n",
      "Kobold, winged (urd) 1\n",
      "Kuo-toa 1\n",
      "Kuo-toa, monitor 1\n",
      "Kuo-toa, whip 1\n",
      "Lizard, giant 1\n",
      "Mephit, magma 1\n",
      "Mimic 1\n",
      "Minotaur 1\n",
      "Myconid, adult 1\n",
      "Myconid, quaggoth spore servant 1\n",
      "Myconid, sprout 1\n",
      "NPC druid 1\n",
      "NPC scout 1\n",
      "NPC tribal warrior 1\n",
      "NPC veteran 1\n",
      "Nothic 1\n",
      "Ogre 1\n",
      "Ogre, half- (ogrillon) 1\n",
      "Ooze, gelatinous cube 1\n",
      "Ooze, gray 1\n",
      "Ooze, ochre jelly 1\n",
      "Orc, eye of Gruumsh 1\n",
      "Orc, orog 1\n",
      "Quaggoth 1\n",
      "Quaggoth, thonot 1\n",
      "Rat, giant 1\n",
      "Salamander, fire snake 1\n",
      "Shadow 1\n",
      "Skeleton, minotaur 1\n",
      "Snake, giant constrictor 1\n",
      "Snake, giant poisonous 1\n",
      "Specter 1\n",
      "Spider, phase 1\n",
      "Stirge 1\n",
      "Swarm of bats 1\n",
      "Swarm of insects 1\n",
      "Toad, giant 1\n",
      "Troglodyte 1\n",
      "Water weird 1\n",
      "Wight 1\n"
     ]
    }
   ],
   "source": [
    "choosing_monsters(party_xp_threshold, environment, party_size, multiplier_list)"
   ]
  }
 ],
 "metadata": {
  "kernelspec": {
   "display_name": "Python 3",
   "language": "python",
   "name": "python3"
  },
  "language_info": {
   "codemirror_mode": {
    "name": "ipython",
    "version": 3
   },
   "file_extension": ".py",
   "mimetype": "text/x-python",
   "name": "python",
   "nbconvert_exporter": "python",
   "pygments_lexer": "ipython3",
   "version": "3.5.0"
  }
 },
 "nbformat": 4,
 "nbformat_minor": 0
}
