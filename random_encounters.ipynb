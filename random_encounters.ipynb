{
 "cells": [
  {
   "cell_type": "code",
   "execution_count": 1,
   "metadata": {
    "collapsed": true
   },
   "outputs": [],
   "source": [
    "import pandas as pd"
   ]
  },
  {
   "cell_type": "markdown",
   "metadata": {
    "collapsed": true
   },
   "source": [
    "# Importing appropriate files"
   ]
  },
  {
   "cell_type": "code",
   "execution_count": 2,
   "metadata": {
    "collapsed": false
   },
   "outputs": [],
   "source": [
    "monster_manuel = pd.read_csv('CSV_files/random_encounter_monsters.csv')\n",
    "monster_manuel = monster_manuel.sort_values('monster')\n",
    "monster_manuel = monster_manuel[monster_manuel.legendary == 'N']\n",
    "monster_manuel = monster_manuel[monster_manuel.xp > 0]\n",
    "xp_threshold = pd.read_csv('CSV_files/xp_threshold.csv', index_col='level')"
   ]
  },
  {
   "cell_type": "markdown",
   "metadata": {},
   "source": [
    "# Random Encounter Generator"
   ]
  },
  {
   "cell_type": "code",
   "execution_count": 3,
   "metadata": {
    "collapsed": false
   },
   "outputs": [
    {
     "name": "stdout",
     "output_type": "stream",
     "text": [
      "How many members in your party? 5\n",
      "What level is your party? 3\n",
      "What environment are you traveling through? (Artic, Coastal, Desert, Forest, Grassland, Hill, \n",
      "Mountain, Swamp, Underdark, Underwater, Urban) Artic\n",
      "How hard of an encounter? (Easy, Medium, Hard, Deadly) hard\n"
     ]
    }
   ],
   "source": [
    "party_size = int(input(\"How many members in your party? \"))\n",
    "party_level = int(input(\"What level is your party? \"))\n",
    "environment = input(\"\"\"What environment are you traveling through? (Artic, Coastal, Desert, Forest, Grassland, Hill, \n",
    "Mountain, Swamp, Underdark, Underwater, Urban) \"\"\").lower()\n",
    "difficulty = input(\"How hard of an encounter? (Easy, Medium, Hard, Deadly) \").lower()"
   ]
  },
  {
   "cell_type": "code",
   "execution_count": 4,
   "metadata": {
    "collapsed": false
   },
   "outputs": [],
   "source": [
    "def encounter_difficulty(difficulty, party_level, party_size):\n",
    "    threshold = xp_threshold[difficulty]\n",
    "    threshold = threshold[party_level]\n",
    "    threshold *= party_size\n",
    "    return threshold"
   ]
  },
  {
   "cell_type": "code",
   "execution_count": 5,
   "metadata": {
    "collapsed": false
   },
   "outputs": [],
   "source": [
    "party_xp_threshold = encounter_difficulty(difficulty, party_level, party_size)"
   ]
  },
  {
   "cell_type": "code",
   "execution_count": 7,
   "metadata": {
    "collapsed": false
   },
   "outputs": [],
   "source": [
    "def xp_multipliers(party_size):    \n",
    "    one_monster = 1\n",
    "    two_monsters = 1.5\n",
    "    three_to_six_monsters = 2\n",
    "    seven_to_ten_monsters = 2.5\n",
    "    eleven_to_fourteen_monsters = 3\n",
    "    fifteen_or_more_monsters = 4\n",
    "    if party_size < 3:\n",
    "        one_monster = 1.5\n",
    "        two_monsters = 2\n",
    "        three_to_six_monsters = 2.5\n",
    "        seven_to_ten_monsters = 3\n",
    "        eleven_to_fourteen_monsters = 4\n",
    "        fifteen_or_more_monsters = 5\n",
    "    if party_size > 5:\n",
    "        one_monster = .5\n",
    "        two_monsters = 1\n",
    "        three_to_six_monsters = 1.5\n",
    "        seven_to_ten_monsters = 2\n",
    "        eleven_to_fourteen_monsters = 2.5\n",
    "        fifteen_or_more_monsters = 3\n",
    "    return [one_monster, two_monsters, three_to_six_monsters, seven_to_ten_monsters, eleven_to_fourteen_monsters, \n",
    "            fifteen_or_more_monsters]"
   ]
  },
  {
   "cell_type": "code",
   "execution_count": 12,
   "metadata": {
    "collapsed": false
   },
   "outputs": [],
   "source": [
    "multiplier_list = xp_multipliers(party_size)"
   ]
  },
  {
   "cell_type": "code",
   "execution_count": 16,
   "metadata": {
    "collapsed": false
   },
   "outputs": [],
   "source": [
    "def choosing_monsters(party_threshold, terrain, party, multiplier_list):\n",
    "    monster_choices = monster_manuel[monster_manuel.xp <= party_threshold]\n",
    "    monster_choices = monster_choices[monster_choices[terrain] == 1]\n",
    "    monster_names = list(monster_choices.monster)\n",
    "    for item in monster_names:\n",
    "        current_monster = monster_choices[monster_choices.monster == item]\n",
    "        return current_monster:\n",
    "        "
   ]
  },
  {
   "cell_type": "code",
   "execution_count": 17,
   "metadata": {
    "collapsed": false
   },
   "outputs": [
    {
     "name": "stdout",
     "output_type": "stream",
     "text": [
      "Bear, brown\n"
     ]
    },
    {
     "data": {
      "text/html": [
       "<div>\n",
       "<table border=\"1\" class=\"dataframe\">\n",
       "  <thead>\n",
       "    <tr style=\"text-align: right;\">\n",
       "      <th></th>\n",
       "      <th>monster</th>\n",
       "      <th>cr</th>\n",
       "      <th>type</th>\n",
       "      <th>subtype</th>\n",
       "      <th>size</th>\n",
       "      <th>align</th>\n",
       "      <th>legendary</th>\n",
       "      <th>lair</th>\n",
       "      <th>xp</th>\n",
       "      <th>artic</th>\n",
       "      <th>coastal</th>\n",
       "      <th>desert</th>\n",
       "      <th>forest</th>\n",
       "      <th>grassland</th>\n",
       "      <th>hill</th>\n",
       "      <th>mountain</th>\n",
       "      <th>swamp</th>\n",
       "      <th>underdark</th>\n",
       "      <th>underwater</th>\n",
       "      <th>urban</th>\n",
       "    </tr>\n",
       "  </thead>\n",
       "  <tbody>\n",
       "    <tr>\n",
       "      <th>134</th>\n",
       "      <td>Bear, brown</td>\n",
       "      <td>1</td>\n",
       "      <td>Beast</td>\n",
       "      <td>NaN</td>\n",
       "      <td>Large</td>\n",
       "      <td>NaN</td>\n",
       "      <td>N</td>\n",
       "      <td>N</td>\n",
       "      <td>200</td>\n",
       "      <td>1</td>\n",
       "      <td>0</td>\n",
       "      <td>0</td>\n",
       "      <td>1</td>\n",
       "      <td>0</td>\n",
       "      <td>1</td>\n",
       "      <td>0</td>\n",
       "      <td>0</td>\n",
       "      <td>0</td>\n",
       "      <td>0</td>\n",
       "      <td>0</td>\n",
       "    </tr>\n",
       "  </tbody>\n",
       "</table>\n",
       "</div>"
      ],
      "text/plain": [
       "         monster  cr   type subtype   size align legendary lair   xp  artic  \\\n",
       "134  Bear, brown   1  Beast     NaN  Large   NaN         N    N  200      1   \n",
       "\n",
       "     coastal  desert  forest  grassland  hill  mountain  swamp  underdark  \\\n",
       "134        0       0       1          0     1         0      0          0   \n",
       "\n",
       "     underwater  urban  \n",
       "134           0      0  "
      ]
     },
     "execution_count": 17,
     "metadata": {},
     "output_type": "execute_result"
    }
   ],
   "source": [
    "choosing_monsters(party_xp_threshold, environment, party_size, multiplier_list)"
   ]
  },
  {
   "cell_type": "markdown",
   "metadata": {},
   "source": [
    "# Encounter Multipliers"
   ]
  },
  {
   "cell_type": "markdown",
   "metadata": {},
   "source": [
    "if party_size <= 5 and party_size >= 3:\n",
    "    one_monster = 1\n",
    "    two_monsters = 1.5\n",
    "    three_to_six_monsters = 2\n",
    "    seven_to_ten_monsters = 2.5\n",
    "    eleven_to_fourteen_monsters = 3\n",
    "    fifteen_or_more_monsters = 4\n",
    "\n",
    "if party_size < 3:\n",
    "    one_monster = 1.5\n",
    "    two_monsters = 2\n",
    "    three_to_six_monsters = 2.5\n",
    "    seven_to_ten_monsters = 3\n",
    "    eleven_to_fourteen_monsters = 4\n",
    "    fifteen_or_more_monsters = 5\n",
    "    \n",
    "if party_size > 5:\n",
    "    one_monster = .5\n",
    "    two_monsters = 1\n",
    "    three_to_six_monsters = 1.5\n",
    "    seven_to_ten_monsters = 2\n",
    "    eleven_to_fourteen_monsters = 2.5\n",
    "    fifteen_or_more_monsters = 3"
   ]
  }
 ],
 "metadata": {
  "kernelspec": {
   "display_name": "Python 3",
   "language": "python",
   "name": "python3"
  },
  "language_info": {
   "codemirror_mode": {
    "name": "ipython",
    "version": 3
   },
   "file_extension": ".py",
   "mimetype": "text/x-python",
   "name": "python",
   "nbconvert_exporter": "python",
   "pygments_lexer": "ipython3",
   "version": "3.5.0"
  }
 },
 "nbformat": 4,
 "nbformat_minor": 0
}
