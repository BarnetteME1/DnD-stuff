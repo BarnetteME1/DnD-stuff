{
 "cells": [
  {
   "cell_type": "code",
   "execution_count": 1,
   "metadata": {
    "collapsed": true
   },
   "outputs": [],
   "source": [
    "import pandas as pd"
   ]
  },
  {
   "cell_type": "markdown",
   "metadata": {
    "collapsed": true
   },
   "source": [
    "# Importing appropriate files"
   ]
  },
  {
   "cell_type": "code",
   "execution_count": 30,
   "metadata": {
    "collapsed": false
   },
   "outputs": [],
   "source": [
    "monster_manuel = pd.read_csv('CSV_files/random_encounter_monsters.csv')\n",
    "monster_manuel = monster_manuel.sort_values('monster')\n",
    "monster_manuel = monster_manuel.rename(columns={'legendary?': 'legendary', 'lair?': 'lair'})\n",
    "monster_manuel = monster_manuel[monster_manuel.Legendary == 'N']\n",
    "xp_threshold = pd.read_csv('CSV_files/xp_threshold.csv', index_col='Level')"
   ]
  },
  {
   "cell_type": "markdown",
   "metadata": {},
   "source": [
    "# Random Encounter Generator"
   ]
  },
  {
   "cell_type": "code",
   "execution_count": 29,
   "metadata": {
    "collapsed": false
   },
   "outputs": [
    {
     "data": {
      "text/plain": [
       "Index(['Monster', 'CR', 'Type', 'Subtype', 'Size', 'Align', 'Legendary',\n",
       "       'Lair', 'XP', 'Artic', 'Coastal', 'Desert', 'Forest', 'Grassland',\n",
       "       'Hill', 'Mountain', 'Swamp', 'Underdark', 'Underwater', 'Urban'],\n",
       "      dtype='object')"
      ]
     },
     "execution_count": 29,
     "metadata": {},
     "output_type": "execute_result"
    }
   ],
   "source": [
    "monster_manuel.columns"
   ]
  },
  {
   "cell_type": "code",
   "execution_count": 28,
   "metadata": {
    "collapsed": false
   },
   "outputs": [
    {
     "name": "stdout",
     "output_type": "stream",
     "text": [
      "How many members in your party? 6\n",
      "What level is your party? 3\n",
      "What environment are you traveling through? grassland\n"
     ]
    }
   ],
   "source": [
    "party_size = int(input(\"How many members in your party? \"))\n",
    "party_level = int(input(\"What level is your party? \"))\n",
    "environment = input(\"\"\"What environment are you traveling through? (Artic, Coastal, Desert, Forest, Grassland, Hill, \n",
    "Mountain, Swamp, Underdark, Underwater, Urban) \"\"\").lower()\n",
    "difficulty = input(\"How hard of an encounter? (Easy, Medium, Hard, Deadly)\").lower()"
   ]
  },
  {
   "cell_type": "code",
   "execution_count": 31,
   "metadata": {
    "collapsed": false
   },
   "outputs": [
    {
     "data": {
      "text/html": [
       "<div>\n",
       "<table border=\"1\" class=\"dataframe\">\n",
       "  <thead>\n",
       "    <tr style=\"text-align: right;\">\n",
       "      <th></th>\n",
       "      <th>Easy</th>\n",
       "      <th>Medium</th>\n",
       "      <th>Hard</th>\n",
       "      <th>Deadly</th>\n",
       "    </tr>\n",
       "    <tr>\n",
       "      <th>Level</th>\n",
       "      <th></th>\n",
       "      <th></th>\n",
       "      <th></th>\n",
       "      <th></th>\n",
       "    </tr>\n",
       "  </thead>\n",
       "  <tbody>\n",
       "    <tr>\n",
       "      <th>1</th>\n",
       "      <td>25</td>\n",
       "      <td>50</td>\n",
       "      <td>75</td>\n",
       "      <td>100</td>\n",
       "    </tr>\n",
       "    <tr>\n",
       "      <th>2</th>\n",
       "      <td>50</td>\n",
       "      <td>100</td>\n",
       "      <td>150</td>\n",
       "      <td>200</td>\n",
       "    </tr>\n",
       "    <tr>\n",
       "      <th>3</th>\n",
       "      <td>75</td>\n",
       "      <td>150</td>\n",
       "      <td>225</td>\n",
       "      <td>400</td>\n",
       "    </tr>\n",
       "    <tr>\n",
       "      <th>4</th>\n",
       "      <td>125</td>\n",
       "      <td>250</td>\n",
       "      <td>375</td>\n",
       "      <td>500</td>\n",
       "    </tr>\n",
       "    <tr>\n",
       "      <th>5</th>\n",
       "      <td>250</td>\n",
       "      <td>500</td>\n",
       "      <td>750</td>\n",
       "      <td>1100</td>\n",
       "    </tr>\n",
       "    <tr>\n",
       "      <th>6</th>\n",
       "      <td>300</td>\n",
       "      <td>600</td>\n",
       "      <td>900</td>\n",
       "      <td>1400</td>\n",
       "    </tr>\n",
       "    <tr>\n",
       "      <th>7</th>\n",
       "      <td>350</td>\n",
       "      <td>750</td>\n",
       "      <td>1100</td>\n",
       "      <td>1700</td>\n",
       "    </tr>\n",
       "    <tr>\n",
       "      <th>8</th>\n",
       "      <td>450</td>\n",
       "      <td>900</td>\n",
       "      <td>1400</td>\n",
       "      <td>2100</td>\n",
       "    </tr>\n",
       "    <tr>\n",
       "      <th>9</th>\n",
       "      <td>550</td>\n",
       "      <td>1100</td>\n",
       "      <td>1600</td>\n",
       "      <td>2400</td>\n",
       "    </tr>\n",
       "    <tr>\n",
       "      <th>10</th>\n",
       "      <td>600</td>\n",
       "      <td>1200</td>\n",
       "      <td>1900</td>\n",
       "      <td>2800</td>\n",
       "    </tr>\n",
       "    <tr>\n",
       "      <th>11</th>\n",
       "      <td>800</td>\n",
       "      <td>1600</td>\n",
       "      <td>2400</td>\n",
       "      <td>3600</td>\n",
       "    </tr>\n",
       "    <tr>\n",
       "      <th>12</th>\n",
       "      <td>1000</td>\n",
       "      <td>2000</td>\n",
       "      <td>3000</td>\n",
       "      <td>4500</td>\n",
       "    </tr>\n",
       "    <tr>\n",
       "      <th>13</th>\n",
       "      <td>1100</td>\n",
       "      <td>2200</td>\n",
       "      <td>3400</td>\n",
       "      <td>5100</td>\n",
       "    </tr>\n",
       "    <tr>\n",
       "      <th>14</th>\n",
       "      <td>1250</td>\n",
       "      <td>2500</td>\n",
       "      <td>3800</td>\n",
       "      <td>5700</td>\n",
       "    </tr>\n",
       "    <tr>\n",
       "      <th>15</th>\n",
       "      <td>1400</td>\n",
       "      <td>2800</td>\n",
       "      <td>4300</td>\n",
       "      <td>6400</td>\n",
       "    </tr>\n",
       "    <tr>\n",
       "      <th>16</th>\n",
       "      <td>1600</td>\n",
       "      <td>3200</td>\n",
       "      <td>4800</td>\n",
       "      <td>7200</td>\n",
       "    </tr>\n",
       "    <tr>\n",
       "      <th>17</th>\n",
       "      <td>2000</td>\n",
       "      <td>3900</td>\n",
       "      <td>5900</td>\n",
       "      <td>8800</td>\n",
       "    </tr>\n",
       "    <tr>\n",
       "      <th>18</th>\n",
       "      <td>2100</td>\n",
       "      <td>4200</td>\n",
       "      <td>6300</td>\n",
       "      <td>9500</td>\n",
       "    </tr>\n",
       "    <tr>\n",
       "      <th>19</th>\n",
       "      <td>2400</td>\n",
       "      <td>4900</td>\n",
       "      <td>7300</td>\n",
       "      <td>10900</td>\n",
       "    </tr>\n",
       "    <tr>\n",
       "      <th>20</th>\n",
       "      <td>2800</td>\n",
       "      <td>5700</td>\n",
       "      <td>8500</td>\n",
       "      <td>12700</td>\n",
       "    </tr>\n",
       "  </tbody>\n",
       "</table>\n",
       "</div>"
      ],
      "text/plain": [
       "       Easy  Medium  Hard  Deadly\n",
       "Level                            \n",
       "1        25      50    75     100\n",
       "2        50     100   150     200\n",
       "3        75     150   225     400\n",
       "4       125     250   375     500\n",
       "5       250     500   750    1100\n",
       "6       300     600   900    1400\n",
       "7       350     750  1100    1700\n",
       "8       450     900  1400    2100\n",
       "9       550    1100  1600    2400\n",
       "10      600    1200  1900    2800\n",
       "11      800    1600  2400    3600\n",
       "12     1000    2000  3000    4500\n",
       "13     1100    2200  3400    5100\n",
       "14     1250    2500  3800    5700\n",
       "15     1400    2800  4300    6400\n",
       "16     1600    3200  4800    7200\n",
       "17     2000    3900  5900    8800\n",
       "18     2100    4200  6300    9500\n",
       "19     2400    4900  7300   10900\n",
       "20     2800    5700  8500   12700"
      ]
     },
     "execution_count": 31,
     "metadata": {},
     "output_type": "execute_result"
    }
   ],
   "source": [
    "xp_threshold"
   ]
  },
  {
   "cell_type": "code",
   "execution_count": null,
   "metadata": {
    "collapsed": true
   },
   "outputs": [],
   "source": []
  },
  {
   "cell_type": "code",
   "execution_count": 26,
   "metadata": {
    "collapsed": false
   },
   "outputs": [
    {
     "data": {
      "text/plain": [
       "5"
      ]
     },
     "execution_count": 26,
     "metadata": {},
     "output_type": "execute_result"
    }
   ],
   "source": [
    "party_size"
   ]
  },
  {
   "cell_type": "markdown",
   "metadata": {},
   "source": [
    "# Encounter Multipliers"
   ]
  },
  {
   "cell_type": "markdown",
   "metadata": {},
   "source": [
    "if party_size <= 5 and party_size >= 3:\n",
    "    one_monster = 1\n",
    "    two_monsters = 1.5\n",
    "    three_to_six_monsters = 2\n",
    "    seven_to_ten_monsters = 2.5\n",
    "    eleven_to_fourteen_monsters = 3\n",
    "    fifteen_or_more_monsters = 4\n",
    "\n",
    "if party_size < 3:\n",
    "    one_monster = 1.5\n",
    "    two_monsters = 2\n",
    "    three_to_six_monsters = 2.5\n",
    "    seven_to_ten_monsters = 3\n",
    "    eleven_to_fourteen_monsters = 4\n",
    "    fifteen_or_more_monsters = 5\n",
    "    \n",
    "if party_size > 5:\n",
    "    one_monster = .5\n",
    "    two_monsters = 1\n",
    "    three_to_six_monsters = 1.5\n",
    "    seven_to_ten_monsters = 2\n",
    "    eleven_to_fourteen_monsters = 2.5\n",
    "    fifteen_or_more_monsters = 3"
   ]
  },
  {
   "cell_type": "code",
   "execution_count": null,
   "metadata": {
    "collapsed": true
   },
   "outputs": [],
   "source": []
  }
 ],
 "metadata": {
  "kernelspec": {
   "display_name": "Python 3",
   "language": "python",
   "name": "python3"
  },
  "language_info": {
   "codemirror_mode": {
    "name": "ipython",
    "version": 3
   },
   "file_extension": ".py",
   "mimetype": "text/x-python",
   "name": "python",
   "nbconvert_exporter": "python",
   "pygments_lexer": "ipython3",
   "version": "3.5.0"
  }
 },
 "nbformat": 4,
 "nbformat_minor": 0
}
