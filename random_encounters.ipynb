{
 "cells": [
  {
   "cell_type": "code",
   "execution_count": 40,
   "metadata": {
    "collapsed": true
   },
   "outputs": [],
   "source": [
    "import pandas as pd"
   ]
  },
  {
   "cell_type": "markdown",
   "metadata": {
    "collapsed": true
   },
   "source": [
    "# Importing appropriate files"
   ]
  },
  {
   "cell_type": "code",
   "execution_count": 41,
   "metadata": {
    "collapsed": false
   },
   "outputs": [],
   "source": [
    "monster_manuel = pd.read_csv('CSV_files/random_encounter_monsters.csv')\n",
    "monster_manuel = monster_manuel.sort_values('monster')\n",
    "monster_manuel = monster_manuel[monster_manuel.legendary == 'N']\n",
    "monster_manuel = monster_manuel[monster_manuel.xp > 0]\n",
    "xp_threshold = pd.read_csv('CSV_files/xp_threshold.csv', index_col='level')"
   ]
  },
  {
   "cell_type": "markdown",
   "metadata": {},
   "source": [
    "# Random Encounter Generator"
   ]
  },
  {
   "cell_type": "code",
   "execution_count": 109,
   "metadata": {
    "collapsed": false
   },
   "outputs": [
    {
     "name": "stdout",
     "output_type": "stream",
     "text": [
      "How many members in your party? 6\n",
      "What level is your party? 3\n",
      "What environment are you traveling through? (Artic, Coastal, Desert, Forest, Grassland, Hill, \n",
      "Mountain, Swamp, Underdark, Underwater, Urban) grassland\n",
      "How hard of an encounter? (Easy, Medium, Hard, Deadly) easy\n"
     ]
    }
   ],
   "source": [
    "party_size = int(input(\"How many members in your party? \"))\n",
    "party_level = int(input(\"What level is your party? \"))\n",
    "environment = input(\"\"\"What environment are you traveling through? (Artic, Coastal, Desert, Forest, Grassland, Hill, \n",
    "Mountain, Swamp, Underdark, Underwater, Urban) \"\"\").lower()\n",
    "difficulty = input(\"How hard of an encounter? (Easy, Medium, Hard, Deadly) \").lower()"
   ]
  },
  {
   "cell_type": "code",
   "execution_count": 110,
   "metadata": {
    "collapsed": false
   },
   "outputs": [],
   "source": [
    "def encounter_difficulty(difficulty, party_level, party_size):\n",
    "    threshold = xp_threshold[difficulty]\n",
    "    threshold = threshold[party_level]\n",
    "    threshold *= party_size\n",
    "    return threshold"
   ]
  },
  {
   "cell_type": "code",
   "execution_count": 111,
   "metadata": {
    "collapsed": false
   },
   "outputs": [],
   "source": [
    "party_xp_threshold = encounter_difficulty(difficulty, party_level, party_size)"
   ]
  },
  {
   "cell_type": "code",
   "execution_count": 112,
   "metadata": {
    "collapsed": false
   },
   "outputs": [],
   "source": [
    "def choosing_monsters(party_threshold, terrain, party):\n",
    "    monster_choices = monster_manuel[monster_manuel.xp <= party_threshold]\n",
    "    monster_choices = monster_choices[monster_choices[terrain] == 1]\n",
    "    monster_names = list(monster_choices.monster)\n",
    "    one_monster = 1\n",
    "    two_monsters = 1.5\n",
    "    three_to_six_monsters = 2\n",
    "    seven_to_ten_monsters = 2.5\n",
    "    eleven_to_fourteen_monsters = 3\n",
    "    fifteen_or_more_monsters = 4\n",
    "    if party < 3:\n",
    "        one_monster = 1.5\n",
    "        two_monsters = 2\n",
    "        three_to_six_monsters = 2.5\n",
    "        seven_to_ten_monsters = 3\n",
    "        eleven_to_fourteen_monsters = 4\n",
    "        fifteen_or_more_monsters = 5\n",
    "    if party > 5:\n",
    "        one_monster = .5\n",
    "        two_monsters = 1\n",
    "        three_to_six_monsters = 1.5\n",
    "        seven_to_ten_monsters = 2\n",
    "        eleven_to_fourteen_monsters = 2.5\n",
    "        fifteen_or_more_monsters = 3\n",
    "    for item in monster_names:\n",
    "        current_monster = monster_choices[monster_choices.monster == item]\n",
    "        initial_number_of_monsters = int(party_threshold/current_monster.xp)\n",
    "        if initial_number_of_monsters == 1:\n",
    "            current_monster.xp *= one_monster\n",
    "        if initial_number_of_monsters == 2:\n",
    "            current_monster.xp *= one_monster\n",
    "        if initial_number_of_monsters >= 3 and initial_number_of_monsters <= 6:\n",
    "            current_monster.xp *= one_monster\n",
    "        if initial_number_of_monsters >= 7 and initial_number_of_monsters <= 10:\n",
    "            current_monster.xp *= one_monster\n",
    "        if initial_number_of_monsters >= 11 and initial_number_of_monsters <= 14:\n",
    "            current_monster.xp *= one_monster\n",
    "        if initial_number_of_monsters >= 15:\n",
    "            current_monster.xp *= one_monster\n",
    "        if int(current_monster.xp) <= party_threshold:\n",
    "            print(item, int(party_threshold/current_monster.xp))"
   ]
  },
  {
   "cell_type": "code",
   "execution_count": 113,
   "metadata": {
    "collapsed": false
   },
   "outputs": [
    {
     "name": "stdout",
     "output_type": "stream",
     "text": [
      "Ankheg 2\n",
      "Axe beak 18\n",
      "Blood hawk 36\n",
      "Boar 18\n",
      "Boar, giant 2\n",
      "Bugbear 4\n",
      "Cat 75\n",
      "Centaur 2\n",
      "Cockatrice 9\n",
      "Deer 90\n",
      "Dinosaur, allosaurus 2\n",
      "Dinosaur, pteranodon 18\n",
      "Eagle 90\n",
      "Eagle, giant 4\n",
      "Elk 18\n",
      "Elk, giant 2\n",
      "Gnoll 9\n",
      "Gnoll, pack lord 2\n",
      "Goat 90\n",
      "Goat, giant 9\n",
      "Goblin 18\n",
      "Goblin, boss 4\n",
      "Griffon 2\n",
      "Hippogriff 4\n",
      "Hobgoblin 9\n",
      "Horse, riding 18\n",
      "Hyena 90\n",
      "Hyena, giant 4\n",
      "Jackal 90\n",
      "Jackalwere 9\n",
      "Lion 4\n",
      "NPC commoner 90\n",
      "NPC druid 2\n",
      "NPC guard 36\n",
      "NPC scout 9\n",
      "NPC tribal warrior 36\n",
      "Ogre 2\n",
      "Orc 9\n",
      "Orc, eye of Gruumsh 2\n",
      "Orc, orog 2\n",
      "Panther 18\n",
      "Pegasus 2\n",
      "Rhinoceros 2\n",
      "Scarecrow 4\n",
      "Snake, flying 36\n",
      "Snake, giant poisonous 18\n",
      "Snake, poisonous 36\n",
      "Spider, giant wolf 18\n",
      "Stirge 36\n",
      "Swarm of insects 9\n",
      "Thri-kreen 4\n",
      "Tiger 4\n",
      "Vulture 90\n",
      "Vulture, giant 4\n",
      "Wasp, giant 9\n",
      "Weasel, giant 36\n",
      "Wolf 18\n",
      "Worg 9\n"
     ]
    },
    {
     "name": "stderr",
     "output_type": "stream",
     "text": [
      "/Users/MatthewBarnette/.direnv/python-3.5.0/lib/python3.5/site-packages/pandas/core/generic.py:2387: SettingWithCopyWarning: \n",
      "A value is trying to be set on a copy of a slice from a DataFrame.\n",
      "Try using .loc[row_indexer,col_indexer] = value instead\n",
      "\n",
      "See the caveats in the documentation: http://pandas.pydata.org/pandas-docs/stable/indexing.html#indexing-view-versus-copy\n",
      "  self[name] = value\n"
     ]
    }
   ],
   "source": [
    "choosing_monsters(party_xp_threshold, environment, party_size)"
   ]
  },
  {
   "cell_type": "markdown",
   "metadata": {},
   "source": [
    "# Encounter Multipliers"
   ]
  },
  {
   "cell_type": "markdown",
   "metadata": {},
   "source": [
    "if party_size <= 5 and party_size >= 3:\n",
    "    one_monster = 1\n",
    "    two_monsters = 1.5\n",
    "    three_to_six_monsters = 2\n",
    "    seven_to_ten_monsters = 2.5\n",
    "    eleven_to_fourteen_monsters = 3\n",
    "    fifteen_or_more_monsters = 4\n",
    "\n",
    "if party_size < 3:\n",
    "    one_monster = 1.5\n",
    "    two_monsters = 2\n",
    "    three_to_six_monsters = 2.5\n",
    "    seven_to_ten_monsters = 3\n",
    "    eleven_to_fourteen_monsters = 4\n",
    "    fifteen_or_more_monsters = 5\n",
    "    \n",
    "if party_size > 5:\n",
    "    one_monster = .5\n",
    "    two_monsters = 1\n",
    "    three_to_six_monsters = 1.5\n",
    "    seven_to_ten_monsters = 2\n",
    "    eleven_to_fourteen_monsters = 2.5\n",
    "    fifteen_or_more_monsters = 3"
   ]
  }
 ],
 "metadata": {
  "kernelspec": {
   "display_name": "Python 3",
   "language": "python",
   "name": "python3"
  },
  "language_info": {
   "codemirror_mode": {
    "name": "ipython",
    "version": 3
   },
   "file_extension": ".py",
   "mimetype": "text/x-python",
   "name": "python",
   "nbconvert_exporter": "python",
   "pygments_lexer": "ipython3",
   "version": "3.5.0"
  }
 },
 "nbformat": 4,
 "nbformat_minor": 0
}
